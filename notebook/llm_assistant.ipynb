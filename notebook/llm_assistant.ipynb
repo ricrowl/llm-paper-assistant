{
  "cells": [
    {
      "cell_type": "code",
      "execution_count": null,
      "metadata": {
        "colab": {
          "base_uri": "https://localhost:8080/"
        },
        "id": "XDsTOe2GzLRV",
        "outputId": "8c6476ba-bdff-4d67-de39-2722a6294d48"
      },
      "outputs": [],
      "source": [
        "from langchain_community.chat_message_histories import ChatMessageHistory\n",
        "from langchain_community.document_loaders import UnstructuredMarkdownLoader\n",
        "from langchain_text_splitters import RecursiveCharacterTextSplitter\n",
        "from langchain_huggingface import HuggingFaceEmbeddings\n",
        "from langchain_community.vectorstores import Chroma\n",
        "from langchain_groq import ChatGroq\n",
        "from langchain_ollama import ChatOllama\n",
        "from langchain_core.prompts import ChatPromptTemplate\n",
        "from langchain.chains import create_retrieval_chain\n",
        "from langchain.chains.combine_documents import create_stuff_documents_chain\n",
        "from langchain.chains import create_retrieval_chain, create_history_aware_retriever\n",
        "from langchain_core.prompts import MessagesPlaceholder\n",
        "from langchain_core.runnables import RunnableWithMessageHistory"
      ]
    },
    {
      "cell_type": "code",
      "execution_count": null,
      "metadata": {
        "id": "ac8B41WRzBWq"
      },
      "outputs": [],
      "source": [
        "MD_PATH = \"../data/pdf/test/2106.01345v2(Decision Transformer ReinforcementLearning via Sequence Modeling).md\"\n",
        "API = \"groq\" # \"ollama\" or \"groq\"\n",
        "# MODEL = \"gemma3:270m\" # for ollama\n",
        "MODEL = \"llama-3.3-70b-versatile\" # for groq"
      ]
    },
    {
      "cell_type": "code",
      "execution_count": null,
      "metadata": {
        "id": "CakVaUSxBBIa"
      },
      "outputs": [],
      "source": [
        "# 履歴\n",
        "store = {}\n",
        "def get_session_history(session_id: str):\n",
        "    if session_id not in store:\n",
        "        store[session_id] = ChatMessageHistory()\n",
        "    return store[session_id]"
      ]
    },
    {
      "cell_type": "code",
      "execution_count": null,
      "metadata": {
        "id": "Ttgam3pZzo0W"
      },
      "outputs": [],
      "source": [
        "# RAG\n",
        "# 文書読み込み\n",
        "loader = UnstructuredMarkdownLoader(MD_PATH)\n",
        "docs = loader.load()\n",
        "# 文書分割\n",
        "text_splitter = RecursiveCharacterTextSplitter(chunk_size=500, chunk_overlap=50)\n",
        "splits = text_splitter.split_documents(docs)\n",
        "# ベクトルDB生成\n",
        "embedding_model = HuggingFaceEmbeddings(model_name=\"intfloat/multilingual-e5-large\")\n",
        "vectorstore = Chroma.from_documents(documents=splits, embedding=embedding_model)\n",
        "retriever = vectorstore.as_retriever()"
      ]
    },
    {
      "cell_type": "code",
      "execution_count": null,
      "metadata": {
        "id": "9Udjdnn86y3F"
      },
      "outputs": [],
      "source": [
        "# Create model\n",
        "if API == \"ollama\":\n",
        "    model = ChatOllama(model=MODEL)\n",
        "elif API == \"groq\":\n",
        "    model = ChatGroq(model=MODEL)"
      ]
    },
    {
      "cell_type": "code",
      "execution_count": null,
      "metadata": {
        "id": "M-LrF20f8VIC"
      },
      "outputs": [],
      "source": [
        "# 履歴を考慮したRAGクエリを生成させるプロンプト\n",
        "contextualize_q_system_prompt = \"\"\"\n",
        "You are given the chat history and the latest user question. Considering these, rephrase the question so that it can be used for searching in a vector store.\n",
        "If rephrasing is not necessary, use the original question as it is.\n",
        "\"\"\"\n",
        "contextualize_q_prompt = ChatPromptTemplate.from_messages(\n",
        "    [\n",
        "        (\"system\", contextualize_q_system_prompt),\n",
        "        MessagesPlaceholder(\"chat_history\"),\n",
        "        (\"human\", \"{input}\"),\n",
        "    ]\n",
        ")\n",
        "# チャットの履歴を考慮して、ユーザーの質問をより正確な検索クエリに変換\n",
        "history_aware_retriever = create_history_aware_retriever(\n",
        "    model, retriever, contextualize_q_prompt\n",
        ")"
      ]
    },
    {
      "cell_type": "code",
      "execution_count": null,
      "metadata": {
        "id": "un4lXR1F_XQJ"
      },
      "outputs": [],
      "source": [
        "# 回答生成用のプロンプト（履歴も考慮）\n",
        "qa_system_prompt = \"\"\"\n",
        "You are a professional research assistant in AI.\n",
        "The following context contains an AI research paper. You should refer to this context when answering the user's questions.\n",
        "\n",
        "<context>\n",
        "{context}\n",
        "</context>\n",
        "\"\"\"\n",
        "qa_prompt = ChatPromptTemplate.from_messages(\n",
        "    [\n",
        "        (\"system\", qa_system_prompt),\n",
        "        MessagesPlaceholder(\"chat_history\"),\n",
        "        (\"human\", \"{input}\"),\n",
        "    ]\n",
        ")\n",
        "# 取得したドキュメントをLLMに渡すためのプロンプトを作成\n",
        "question_answer_chain = create_stuff_documents_chain(model, qa_prompt)\n",
        "# 関連ドキュメントを取得し、そのドキュメントと元のユーザーの質問をcreate_stuff_documents_chainに渡して最終的な回答を生成するまでの一連の流れをオーケストレーション\n",
        "rag_with_history_chain = create_retrieval_chain(history_aware_retriever, question_answer_chain)"
      ]
    },
    {
      "cell_type": "code",
      "execution_count": null,
      "metadata": {
        "id": "FmEjA9bG10a5"
      },
      "outputs": [],
      "source": [
        "# RunnableWithMessageHistoryでラップして会話形式で実行\n",
        "conversational_rag_chain = RunnableWithMessageHistory(\n",
        "    rag_with_history_chain,\n",
        "    get_session_history,\n",
        "    input_messages_key=\"input\",\n",
        "    history_messages_key=\"chat_history\",\n",
        "    output_messages_key=\"answer\",\n",
        ")"
      ]
    },
    {
      "cell_type": "code",
      "execution_count": null,
      "metadata": {
        "id": "SzdIHOQ3BvAO"
      },
      "outputs": [],
      "source": [
        "config_rag = {\"configurable\": {\"session_id\": \"rag_user002\"}}"
      ]
    },
    {
      "cell_type": "code",
      "execution_count": null,
      "metadata": {
        "colab": {
          "base_uri": "https://localhost:8080/"
        },
        "id": "hmcj-IKG28yz",
        "outputId": "5ea16148-053c-4bfc-802c-f570fae12a23"
      },
      "outputs": [],
      "source": [
        "question = \"\"\"あなたはプロフェッショナルなAI研究のリサーチアシスタントです。\n",
        "論文を以下の例のフォーマットでまとめてください。簡条書きかつ、だ・である調で書いてください。\n",
        "```\n",
        "### 課題\n",
        "- AAA\n",
        "- BBB\n",
        "\n",
        "### 手法\n",
        "- AAA\n",
        "- BBB\n",
        "\n",
        "### 結果\n",
        "- AAA\n",
        "- BBB\n",
        "```\n",
        "\"\"\"\n",
        "res = conversational_rag_chain.invoke({\"input\": question}, config=config_rag)\n",
        "print(res[\"answer\"])"
      ]
    },
    {
      "cell_type": "code",
      "execution_count": null,
      "metadata": {
        "colab": {
          "base_uri": "https://localhost:8080/"
        },
        "id": "Dl_XNene3DU0",
        "outputId": "26c189ca-4020-47f9-a416-cadd364f00e7"
      },
      "outputs": [],
      "source": [
        "question = \"\"\"手法について以下の例のフォーマットで詳細に解説してください。図があればそれも交えて解説してください。簡条書きかつ、だ・である調で書いてください。\n",
        "```\n",
        "### 全体像\n",
        "提案手法のコンセプトや全体像、全体的なプロセスについて簡潔に解説する。ここで登場する要素技術についてはここでは解説せず、後で詳細に解説する。これらに関する図があればそれも交えて解説する。\n",
        "- AAA\n",
        "- BBB\n",
        "\n",
        "### 要素技術名\n",
        "提案手法で使用されている要素技術があれば、それにフォーカスして解説する。\n",
        "- AAA\n",
        "- BBB\n",
        "\n",
        "### 要素技術名\n",
        "提案手法で使用されている要素技術が他にもあれば、それにフォーカスして解説する。\n",
        "- AAA\n",
        "- BBB\n",
        "```\n",
        "\n",
        "...\n",
        "\"\"\"\n",
        "res = conversational_rag_chain.invoke({\"input\": question}, config=config_rag)\n",
        "print(res[\"answer\"])"
      ]
    },
    {
      "cell_type": "code",
      "execution_count": null,
      "metadata": {
        "colab": {
          "base_uri": "https://localhost:8080/"
        },
        "id": "jKPlCPSW3KPy",
        "outputId": "158e110d-4237-47bb-ecb2-6aeaa0f7cd76"
      },
      "outputs": [],
      "source": [
        "question = \"\"\"全ての実験結果について以下の例のフォーマットで詳細に解説してください。どのような実験を行ったか、評価指標は何か、どのような結果が得られたかを箇条書きで書いてください。だ・である調で書いてください。\n",
        "```\n",
        "### 実験名（例: xxxの性能）\n",
        "- AAA\n",
        "- BBB\n",
        "\n",
        "### 実験名\n",
        "- AAA\n",
        "- BBB\n",
        "\n",
        "...\n",
        "```\n",
        "\"\"\"\n",
        "res = conversational_rag_chain.invoke({\"input\": question}, config=config_rag)\n",
        "print(res[\"answer\"])"
      ]
    },
    {
      "cell_type": "code",
      "execution_count": null,
      "metadata": {
        "colab": {
          "base_uri": "https://localhost:8080/"
        },
        "id": "Ng6fv3X03O-I",
        "outputId": "36bf03b6-24c1-4b40-bdd6-920e8b1a5ce1"
      },
      "outputs": [],
      "source": [
        "question = \"\"\"この研究の課題や展望があれば教えてください。簡条書きかつ、だ・である調で書いてください。\n",
        "```\n",
        "### 課題（論文中で述べられている課題があれば述べる）\n",
        "- AAA\n",
        "- BBB\n",
        "\n",
        "### 展望（論文中で述べられている今後の展望があれば述べる）\n",
        "- AAA\n",
        "- BBB\n",
        "\n",
        "### AIの私見（あなたが思う課題や今後の展望があれば述べる）\n",
        "- AAA\n",
        "- BBB\n",
        "```\n",
        "\"\"\"\n",
        "res = conversational_rag_chain.invoke({\"input\": question}, config=config_rag)\n",
        "print(res[\"answer\"])"
      ]
    },
    {
      "cell_type": "code",
      "execution_count": null,
      "metadata": {
        "id": "REwpaPVD3TPS"
      },
      "outputs": [],
      "source": []
    }
  ],
  "metadata": {
    "colab": {
      "provenance": []
    },
    "kernelspec": {
      "display_name": "llm-paper-assistant",
      "language": "python",
      "name": "python3"
    },
    "language_info": {
      "codemirror_mode": {
        "name": "ipython",
        "version": 3
      },
      "file_extension": ".py",
      "mimetype": "text/x-python",
      "name": "python",
      "nbconvert_exporter": "python",
      "pygments_lexer": "ipython3",
      "version": "3.10.6"
    }
  },
  "nbformat": 4,
  "nbformat_minor": 0
}
